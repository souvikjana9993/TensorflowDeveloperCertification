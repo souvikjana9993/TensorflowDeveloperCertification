{
  "nbformat": 4,
  "nbformat_minor": 0,
  "metadata": {
    "colab": {
      "name": "Coursera_TDF_demo1.ipynb",
      "provenance": [],
      "authorship_tag": "ABX9TyN97fjQxFAB3zSVoDiXnD32",
      "include_colab_link": true
    },
    "kernelspec": {
      "name": "python3",
      "display_name": "Python 3"
    },
    "language_info": {
      "name": "python"
    }
  },
  "cells": [
    {
      "cell_type": "markdown",
      "metadata": {
        "id": "view-in-github",
        "colab_type": "text"
      },
      "source": [
        "<a href=\"https://colab.research.google.com/github/souvikjana9993/TensorflowDeveloperCertification/blob/main/Coursera_TDF_demo1.ipynb\" target=\"_parent\"><img src=\"https://colab.research.google.com/assets/colab-badge.svg\" alt=\"Open In Colab\"/></a>"
      ]
    },
    {
      "cell_type": "code",
      "metadata": {
        "colab": {
          "base_uri": "https://localhost:8080/"
        },
        "id": "eQty3xPuw9co",
        "outputId": "e8f7fb2c-4a0d-4ac8-c2a8-8ce34d451fbc"
      },
      "source": [
        "import keras\n",
        "from keras.models import Sequential\n",
        "import numpy as np\n",
        "import tensorflow as tf\n",
        "print(tf.__version__)"
      ],
      "execution_count": null,
      "outputs": [
        {
          "output_type": "stream",
          "name": "stdout",
          "text": [
            "2.6.0\n"
          ]
        }
      ]
    },
    {
      "cell_type": "code",
      "metadata": {
        "id": "TIq05JPixTfE"
      },
      "source": [
        "model = Sequential([keras.layers.Dense(units=1,input_shape=[1])])\n",
        "model.compile(optimizer='sgd',loss='mean_squared_error')"
      ],
      "execution_count": null,
      "outputs": []
    },
    {
      "cell_type": "code",
      "metadata": {
        "id": "K2k3BD4ByWKJ"
      },
      "source": [
        "xs = np.array([-1.0,0.0,1.0,2.0,3.0,4.0],dtype=float)\n",
        "ys = np.array([-3.0,-1.0,1.0,3.0,5.0,7.0],dtype=float)"
      ],
      "execution_count": null,
      "outputs": []
    },
    {
      "cell_type": "code",
      "metadata": {
        "colab": {
          "base_uri": "https://localhost:8080/"
        },
        "id": "kTH6BwBty0v7",
        "outputId": "ae793bf4-9c5c-418d-c4a1-20bebd39f5fd"
      },
      "source": [
        "model.fit(xs,ys,epochs=50)"
      ],
      "execution_count": null,
      "outputs": [
        {
          "output_type": "stream",
          "name": "stdout",
          "text": [
            "Epoch 1/50\n",
            "1/1 [==============================] - 0s 7ms/step - loss: 0.0863\n",
            "Epoch 2/50\n",
            "1/1 [==============================] - 0s 6ms/step - loss: 0.0846\n",
            "Epoch 3/50\n",
            "1/1 [==============================] - 0s 4ms/step - loss: 0.0828\n",
            "Epoch 4/50\n",
            "1/1 [==============================] - 0s 5ms/step - loss: 0.0811\n",
            "Epoch 5/50\n",
            "1/1 [==============================] - 0s 7ms/step - loss: 0.0795\n",
            "Epoch 6/50\n",
            "1/1 [==============================] - 0s 8ms/step - loss: 0.0778\n",
            "Epoch 7/50\n",
            "1/1 [==============================] - 0s 10ms/step - loss: 0.0762\n",
            "Epoch 8/50\n",
            "1/1 [==============================] - 0s 4ms/step - loss: 0.0747\n",
            "Epoch 9/50\n",
            "1/1 [==============================] - 0s 4ms/step - loss: 0.0731\n",
            "Epoch 10/50\n",
            "1/1 [==============================] - 0s 5ms/step - loss: 0.0716\n",
            "Epoch 11/50\n",
            "1/1 [==============================] - 0s 4ms/step - loss: 0.0701\n",
            "Epoch 12/50\n",
            "1/1 [==============================] - 0s 5ms/step - loss: 0.0687\n",
            "Epoch 13/50\n",
            "1/1 [==============================] - 0s 4ms/step - loss: 0.0673\n",
            "Epoch 14/50\n",
            "1/1 [==============================] - 0s 4ms/step - loss: 0.0659\n",
            "Epoch 15/50\n",
            "1/1 [==============================] - 0s 5ms/step - loss: 0.0646\n",
            "Epoch 16/50\n",
            "1/1 [==============================] - 0s 6ms/step - loss: 0.0632\n",
            "Epoch 17/50\n",
            "1/1 [==============================] - 0s 4ms/step - loss: 0.0619\n",
            "Epoch 18/50\n",
            "1/1 [==============================] - 0s 6ms/step - loss: 0.0607\n",
            "Epoch 19/50\n",
            "1/1 [==============================] - 0s 4ms/step - loss: 0.0594\n",
            "Epoch 20/50\n",
            "1/1 [==============================] - 0s 4ms/step - loss: 0.0582\n",
            "Epoch 21/50\n",
            "1/1 [==============================] - 0s 4ms/step - loss: 0.0570\n",
            "Epoch 22/50\n",
            "1/1 [==============================] - 0s 4ms/step - loss: 0.0558\n",
            "Epoch 23/50\n",
            "1/1 [==============================] - 0s 4ms/step - loss: 0.0547\n",
            "Epoch 24/50\n",
            "1/1 [==============================] - 0s 4ms/step - loss: 0.0536\n",
            "Epoch 25/50\n",
            "1/1 [==============================] - 0s 5ms/step - loss: 0.0525\n",
            "Epoch 26/50\n",
            "1/1 [==============================] - 0s 8ms/step - loss: 0.0514\n",
            "Epoch 27/50\n",
            "1/1 [==============================] - 0s 4ms/step - loss: 0.0503\n",
            "Epoch 28/50\n",
            "1/1 [==============================] - 0s 5ms/step - loss: 0.0493\n",
            "Epoch 29/50\n",
            "1/1 [==============================] - 0s 5ms/step - loss: 0.0483\n",
            "Epoch 30/50\n",
            "1/1 [==============================] - 0s 6ms/step - loss: 0.0473\n",
            "Epoch 31/50\n",
            "1/1 [==============================] - 0s 6ms/step - loss: 0.0463\n",
            "Epoch 32/50\n",
            "1/1 [==============================] - 0s 5ms/step - loss: 0.0454\n",
            "Epoch 33/50\n",
            "1/1 [==============================] - 0s 5ms/step - loss: 0.0444\n",
            "Epoch 34/50\n",
            "1/1 [==============================] - 0s 4ms/step - loss: 0.0435\n",
            "Epoch 35/50\n",
            "1/1 [==============================] - 0s 5ms/step - loss: 0.0426\n",
            "Epoch 36/50\n",
            "1/1 [==============================] - 0s 5ms/step - loss: 0.0418\n",
            "Epoch 37/50\n",
            "1/1 [==============================] - 0s 12ms/step - loss: 0.0409\n",
            "Epoch 38/50\n",
            "1/1 [==============================] - 0s 6ms/step - loss: 0.0401\n",
            "Epoch 39/50\n",
            "1/1 [==============================] - 0s 5ms/step - loss: 0.0392\n",
            "Epoch 40/50\n",
            "1/1 [==============================] - 0s 7ms/step - loss: 0.0384\n",
            "Epoch 41/50\n",
            "1/1 [==============================] - 0s 5ms/step - loss: 0.0376\n",
            "Epoch 42/50\n",
            "1/1 [==============================] - 0s 5ms/step - loss: 0.0369\n",
            "Epoch 43/50\n",
            "1/1 [==============================] - 0s 7ms/step - loss: 0.0361\n",
            "Epoch 44/50\n",
            "1/1 [==============================] - 0s 5ms/step - loss: 0.0354\n",
            "Epoch 45/50\n",
            "1/1 [==============================] - 0s 6ms/step - loss: 0.0346\n",
            "Epoch 46/50\n",
            "1/1 [==============================] - 0s 6ms/step - loss: 0.0339\n",
            "Epoch 47/50\n",
            "1/1 [==============================] - 0s 6ms/step - loss: 0.0332\n",
            "Epoch 48/50\n",
            "1/1 [==============================] - 0s 7ms/step - loss: 0.0325\n",
            "Epoch 49/50\n",
            "1/1 [==============================] - 0s 5ms/step - loss: 0.0319\n",
            "Epoch 50/50\n",
            "1/1 [==============================] - 0s 8ms/step - loss: 0.0312\n"
          ]
        },
        {
          "output_type": "execute_result",
          "data": {
            "text/plain": [
              "<keras.callbacks.History at 0x7f37411f7f10>"
            ]
          },
          "metadata": {},
          "execution_count": 30
        }
      ]
    },
    {
      "cell_type": "code",
      "metadata": {
        "colab": {
          "base_uri": "https://localhost:8080/"
        },
        "id": "9FWOHCvezKwt",
        "outputId": "952398d4-1ef0-4787-ed80-a7907f4c709d"
      },
      "source": [
        "print(model.predict([10.0])[0])"
      ],
      "execution_count": null,
      "outputs": [
        {
          "output_type": "stream",
          "name": "stdout",
          "text": [
            "[18.484451]\n"
          ]
        }
      ]
    },
    {
      "cell_type": "code",
      "metadata": {
        "id": "pkzte5ACzRcw"
      },
      "source": [
        "#equation is 2x -1 "
      ],
      "execution_count": null,
      "outputs": []
    },
    {
      "cell_type": "code",
      "metadata": {
        "id": "qGforaEK1bOs"
      },
      "source": [
        ""
      ],
      "execution_count": null,
      "outputs": []
    }
  ]
}